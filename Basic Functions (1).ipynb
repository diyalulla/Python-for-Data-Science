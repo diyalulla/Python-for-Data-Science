{
 "cells": [
  {
   "cell_type": "code",
   "execution_count": 8,
   "id": "a1d4ef17",
   "metadata": {},
   "outputs": [
    {
     "name": "stdout",
     "output_type": "stream",
     "text": [
      "Red Black\n"
     ]
    }
   ],
   "source": [
    "# Write a Python program to display the first and last colors from the following list\n",
    "\n",
    "color_list = [\"Red\",\"Green\",\"White\" ,\"Black\"]\n",
    "print(color_list[0], color_list[-1])"
   ]
  },
  {
   "cell_type": "code",
   "execution_count": 15,
   "id": "e22780d5",
   "metadata": {},
   "outputs": [
    {
     "name": "stdout",
     "output_type": "stream",
     "text": [
      "6\n"
     ]
    }
   ],
   "source": [
    "#Write a Python program to get the difference between a given number and 17\n",
    "# if the number is greater than 17 return double the absolute difference\n",
    "n = 20\n",
    "\n",
    "if n <= 17:\n",
    "    print(17-n)\n",
    "else:\n",
    "    print(abs(n-17)*2)\n",
    "\n"
   ]
  },
  {
   "cell_type": "code",
   "execution_count": 20,
   "id": "6e603e6e",
   "metadata": {},
   "outputs": [
    {
     "name": "stdout",
     "output_type": "stream",
     "text": [
      "13\n"
     ]
    }
   ],
   "source": [
    "#Write a Python program to calculate the sum of three given numbers,\n",
    "#if the values are equal then return three times of their sum.\n",
    "\n",
    "def sum_3(a, b, c):\n",
    "    if a==b==c:\n",
    "        print(a*3)\n",
    "    else:\n",
    "        print (a+b+c)\n",
    "        \n",
    "sum_3(3,6,4)"
   ]
  },
  {
   "cell_type": "code",
   "execution_count": 24,
   "id": "086e6f81",
   "metadata": {},
   "outputs": [
    {
     "name": "stdout",
     "output_type": "stream",
     "text": [
      "Is your name Diya\n"
     ]
    }
   ],
   "source": [
    "#Write a Python program to get a new string from a given string where \"Is\" has been added to the front. \n",
    "#If the given string already begins with \"Is\" then return the string unchanged.\n",
    "\n",
    "\n",
    "def add_str(str):\n",
    "    if \"Is\" in str[0:2]:\n",
    "        print(str)\n",
    "    else:\n",
    "        print(\"Is \" + str)\n",
    "        \n",
    "str = \"Is your name Diya\"\n",
    "add_str(str)"
   ]
  },
  {
   "cell_type": "code",
   "execution_count": 27,
   "id": "170da5f4",
   "metadata": {},
   "outputs": [
    {
     "name": "stdout",
     "output_type": "stream",
     "text": [
      "Enter a number:5\n",
      "This number is odd\n"
     ]
    }
   ],
   "source": [
    "#Write a Python program to find whether a given number (accept from the user) is even or odd\n",
    "#print out an appropriate message to the user\n",
    "\n",
    "n = int(input(\"Enter a number:\"))\n",
    "\n",
    "if n % 2 == 0:\n",
    "    print(\"This number is even\")\n",
    "else:\n",
    "    print(\"This number is odd\")"
   ]
  },
  {
   "cell_type": "code",
   "execution_count": 37,
   "id": "d9aca3e9",
   "metadata": {},
   "outputs": [
    {
     "data": {
      "text/plain": [
       "3"
      ]
     },
     "execution_count": 37,
     "metadata": {},
     "output_type": "execute_result"
    }
   ],
   "source": [
    "# Write a Python program to count the number 4 in a given list.\n",
    "\n",
    "lst = [2, 4, 4, 4, 6]\n",
    "lst.count(4)\n"
   ]
  },
  {
   "cell_type": "code",
   "execution_count": 50,
   "id": "32de4a4e",
   "metadata": {},
   "outputs": [
    {
     "name": "stdout",
     "output_type": "stream",
     "text": [
      "True\n"
     ]
    }
   ],
   "source": [
    "# Write a Python program to check whether a specified value is contained in a group of values. \n",
    "\n",
    "for i in a:\n",
    "    if i == b:\n",
    "        print(\"True\")\n",
    "    \n",
    "a = [2,4,5,6]\n",
    "b = 9"
   ]
  },
  {
   "cell_type": "code",
   "execution_count": 58,
   "id": "417d5c87",
   "metadata": {},
   "outputs": [
    {
     "data": {
      "text/plain": [
       "(array([1., 1., 1., 0., 0., 0., 0., 0., 0., 1.]),\n",
       " array([ 2. ,  2.8,  3.6,  4.4,  5.2,  6. ,  6.8,  7.6,  8.4,  9.2, 10. ]),\n",
       " <BarContainer object of 10 artists>)"
      ]
     },
     "execution_count": 58,
     "metadata": {},
     "output_type": "execute_result"
    },
    {
     "data": {
      "image/png": "[encoded data removed]",
      "text/plain": [
       "<Figure size 432x288 with 1 Axes>"
      ]
     },
     "metadata": {
      "needs_background": "light"
     },
     "output_type": "display_data"
    }
   ],
   "source": [
    "#Write a Python program to create a histogram from a given list of integers\n",
    "\n",
    "import matplotlib.pyplot as plt\n",
    "\n",
    "int_list = [2,3,4,10]\n",
    "plt.hist(int_list)"
   ]
  },
  {
   "cell_type": "code",
   "execution_count": 72,
   "id": "42e41df3",
   "metadata": {},
   "outputs": [
    {
     "name": "stdout",
     "output_type": "stream",
     "text": [
      "386\n",
      "462\n",
      "418\n",
      "344\n",
      "236\n",
      "566\n",
      "978\n",
      "328\n",
      "162\n",
      "758\n",
      "918\n"
     ]
    }
   ],
   "source": [
    "#Write a Python program to print all even numbers from a given numbers list in the same order \n",
    "#stop the printing if any numbers that come after 237 in the sequence.\n",
    "\n",
    "numbers = [    \n",
    "    386, 462, 47, 418, 907, 344, 236, 375, 823, 566, 597, 978, 328, 615, 953, 345, \n",
    "    399, 162, 758, 219, 918, 237, 412, 566, 826, 248, 866, 950, 626, 949, 687, 217, \n",
    "    815, 67, 104, 58, 512, 24, 892, 894, 767, 553, 81, 379, 843, 831, 445, 742, 717, \n",
    "    958,743, 527\n",
    "    ] \n",
    "\n",
    "for i in numbers:\n",
    "    if i == 237:\n",
    "        break;\n",
    "    elif i % 2 == 0:\n",
    "        print(i)\n",
    "\n",
    "\n"
   ]
  },
  {
   "cell_type": "code",
   "execution_count": 74,
   "id": "cf053282",
   "metadata": {},
   "outputs": [
    {
     "data": {
      "text/plain": [
       "10.0"
      ]
     },
     "execution_count": 74,
     "metadata": {},
     "output_type": "execute_result"
    }
   ],
   "source": [
    "#Write a Python program that will accept the base and height of a triangle and compute the area\n",
    "\n",
    "def area_triangle(h,b):\n",
    "    return((h*b)/2)\n",
    "\n",
    "area_triangle(4,5)"
   ]
  },
  {
   "cell_type": "code",
   "execution_count": null,
   "id": "8bc762c5",
   "metadata": {},
   "outputs": [],
   "source": []
  }
 ],
 "metadata": {
  "kernelspec": {
   "display_name": "Python 3 (ipykernel)",
   "language": "python",
   "name": "python3"
  },
  "language_info": {
   "codemirror_mode": {
    "name": "ipython",
    "version": 3
   },
   "file_extension": ".py",
   "mimetype": "text/x-python",
   "name": "python",
   "nbconvert_exporter": "python",
   "pygments_lexer": "ipython3",
   "version": "3.10.2"
  }
 },
 "nbformat": 4,
 "nbformat_minor": 5
}
